{
 "cells": [
  {
   "cell_type": "markdown",
   "metadata": {
    "id": "Ox2vQ1ciDqnn"
   },
   "source": [
    "# Simple Cat Dog Categorising CNN Model\n",
    "Here we will use a subset of a kaggle dataset to create a cat dog categorising CNN Computer VIsion Deep Learning Model.\n",
    "\n",
    "Data is locally stored on google drive for this project. This is done on google colab."
   ]
  },
  {
   "cell_type": "markdown",
   "metadata": {
    "id": "2H_htRTMEG1V"
   },
   "source": [
    "## Import Required libraries\n",
    "We will need:\n",
    "<ol>\n",
    "<li>Tensorflow and Keras to create and operate on our deep learning model.</li>\n",
    "<li>Os module to fetch and interact with data as our dataset consists of images stored in distinct directories.</li>\n",
    "<li>Pandas to plot the history (may be switched with matplotlib, seaborn, plotly etc. as per requirements; here  used pandas).</li>\n",
    "<li>Matplotlib for graph manipulation (can also be switched with any of the above mentioned)</li>\n",
    "</ol>"
   ]
  },
  {
   "cell_type": "code",
   "execution_count": 40,
   "metadata": {
    "id": "5I0RNHVREgSE"
   },
   "outputs": [],
   "source": [
    "  import pandas as pd\n",
    "  import matplotlib.pyplot as plt\n",
    "  import tensorflow as tfl\n",
    "  from tensorflow import keras\n",
    "  import os"
   ]
  },
  {
   "cell_type": "markdown",
   "metadata": {
    "id": "Di-w95hcEnhI"
   },
   "source": [
    "## Store Paths of File Storage in Variables\n",
    "This was done so changes in storage location of dataset would be easy to implement as there is a central location to make all desired changes to."
   ]
  },
  {
   "cell_type": "code",
   "execution_count": 20,
   "metadata": {
    "id": "AfmW4sDsEmDY"
   },
   "outputs": [],
   "source": [
    "path_valid = '/content/drive/MyDrive/cats_and_dogs_small/validation'\n",
    "path_test = '/content/drive/MyDrive/cats_and_dogs_small/test'\n",
    "path_train = '/content/drive/MyDrive/cats_and_dogs_small/train'"
   ]
  },
  {
   "cell_type": "markdown",
   "metadata": {
    "id": "QtPwT10sE6IR"
   },
   "source": [
    "## Preprocessing Data\n",
    "As we have to work with image data that needs to be converted into RGB format and shape is to be standardised the keras ImageDataGenerator is required.\n",
    "\n",
    "The import here was just for convienience as the path was too long to write repeatedly, there is no need to do it."
   ]
  },
  {
   "cell_type": "code",
   "execution_count": 21,
   "metadata": {
    "id": "-5aDU7gvEmGE"
   },
   "outputs": [],
   "source": [
    "from tensorflow.keras.preprocessing.image import ImageDataGenerator"
   ]
  },
  {
   "cell_type": "markdown",
   "metadata": {
    "id": "cw_G6fggFa97"
   },
   "source": [
    "<p>The images were standardised to be (150, 150) in shape and batch size i.e. number of images fed at once and returned from generator will be set to 20 and class mode is binary as the output can be one of two classes.</p>\n",
    "\n",
    "<p>The testing generator was used for creating validation data instead of the training generator as validation may be seen more as an internal testing and thus the testing generator seemed to be a better fit than the training generator.</p>"
   ]
  },
  {
   "cell_type": "code",
   "execution_count": 22,
   "metadata": {
    "colab": {
     "base_uri": "https://localhost:8080/"
    },
    "id": "fPZA7guzEmI1",
    "outputId": "22868a17-b4f6-4e2b-e027-e61848c884db"
   },
   "outputs": [
    {
     "name": "stdout",
     "output_type": "stream",
     "text": [
      "Found 2000 images belonging to 2 classes.\n",
      "Found 1000 images belonging to 2 classes.\n"
     ]
    }
   ],
   "source": [
    "train_datagen = ImageDataGenerator(rescale = 1/255)\n",
    "test_datagen = ImageDataGenerator(rescale = 1/255)\n",
    "\n",
    "train_generator = train_datagen.flow_from_directory(\n",
    "    path_train,\n",
    "    target_size = (150, 150),\n",
    "    batch_size = 20,\n",
    "    class_mode = 'binary'\n",
    ")\n",
    "\n",
    "valid_generator = test_datagen.flow_from_directory(\n",
    "    path_valid,\n",
    "    target_size = (150, 150),\n",
    "    batch_size = 20,\n",
    "    class_mode = 'binary'\n",
    ")"
   ]
  },
  {
   "cell_type": "markdown",
   "metadata": {
    "id": "ZKirNmxqGKm8"
   },
   "source": [
    "## Create the Deep Learning Model"
   ]
  },
  {
   "cell_type": "code",
   "execution_count": 23,
   "metadata": {
    "colab": {
     "base_uri": "https://localhost:8080/"
    },
    "id": "CsrWM-phEmLL",
    "outputId": "5fa03b79-8e5f-4215-acdc-05614033da80"
   },
   "outputs": [
    {
     "name": "stdout",
     "output_type": "stream",
     "text": [
      "Model: \"sequential_3\"\n",
      "_________________________________________________________________\n",
      "Layer (type)                 Output Shape              Param #   \n",
      "=================================================================\n",
      "conv2d_10 (Conv2D)           (None, 148, 148, 32)      896       \n",
      "_________________________________________________________________\n",
      "max_pooling2d_10 (MaxPooling (None, 74, 74, 32)        0         \n",
      "_________________________________________________________________\n",
      "conv2d_11 (Conv2D)           (None, 72, 72, 64)        18496     \n",
      "_________________________________________________________________\n",
      "max_pooling2d_11 (MaxPooling (None, 36, 36, 64)        0         \n",
      "_________________________________________________________________\n",
      "conv2d_12 (Conv2D)           (None, 34, 34, 128)       73856     \n",
      "_________________________________________________________________\n",
      "max_pooling2d_12 (MaxPooling (None, 17, 17, 128)       0         \n",
      "_________________________________________________________________\n",
      "conv2d_13 (Conv2D)           (None, 15, 15, 128)       147584    \n",
      "_________________________________________________________________\n",
      "max_pooling2d_13 (MaxPooling (None, 7, 7, 128)         0         \n",
      "_________________________________________________________________\n",
      "flatten_3 (Flatten)          (None, 6272)              0         \n",
      "_________________________________________________________________\n",
      "dense_5 (Dense)              (None, 512)               3211776   \n",
      "_________________________________________________________________\n",
      "dense_6 (Dense)              (None, 1)                 513       \n",
      "=================================================================\n",
      "Total params: 3,453,121\n",
      "Trainable params: 3,453,121\n",
      "Non-trainable params: 0\n",
      "_________________________________________________________________\n",
      "None\n"
     ]
    }
   ],
   "source": [
    "model = keras.models.Sequential()\n",
    "\n",
    "model.add(keras.layers.Conv2D(filters = 32, kernel_size = (3, 3), activation = 'relu', input_shape = (150, 150, 3)))\n",
    "model.add(keras.layers.MaxPooling2D((2, 2)))\n",
    "model.add(keras.layers.Conv2D(filters = 64, kernel_size = (3, 3), activation = 'relu'))\n",
    "model.add(keras.layers.MaxPooling2D((2, 2)))\n",
    "model.add(keras.layers.Conv2D(128, (3, 3), activation = 'relu'))\n",
    "model.add(keras.layers.MaxPooling2D((2, 2)))\n",
    "model.add(keras.layers.Conv2D(128, (3, 3), activation = 'relu'))\n",
    "model.add(keras.layers.MaxPooling2D((2, 2)))\n",
    "model.add(keras.layers.Flatten())\n",
    "model.add(keras.layers.Dense(512, activation = 'relu'))\n",
    "model.add(keras.layers.Dense(1, activation = 'sigmoid'))\n",
    "\n",
    "print(model.summary())"
   ]
  },
  {
   "cell_type": "markdown",
   "metadata": {
    "id": "0PVb8gpNGSEt"
   },
   "source": [
    "## Visualise the Model"
   ]
  },
  {
   "cell_type": "code",
   "execution_count": 24,
   "metadata": {
    "colab": {
     "base_uri": "https://localhost:8080/",
     "height": 1000
    },
    "id": "4fyBGOXfEmNr",
    "outputId": "e406495e-bf4d-4b42-f90d-b55ea64db126"
   },
   "outputs": [
    {
     "data": {
      "image/png": "[encoded data removed]",
      "text/plain": [
       "<IPython.core.display.Image object>"
      ]
     },
     "execution_count": 24,
     "metadata": {
      "tags": []
     },
     "output_type": "execute_result"
    }
   ],
   "source": [
    "import pydot\n",
    "import graphviz\n",
    "keras.utils.plot_model(model)"
   ]
  },
  {
   "cell_type": "markdown",
   "metadata": {},
   "source": [
    "Note here that while pydot and graphviz are not directly used in the plotting function, they are called internally to implement the plotting hence why it is necessary to import them."
   ]
  },
  {
   "cell_type": "markdown",
   "metadata": {
    "id": "Uj2G19qhGXsv"
   },
   "source": [
    "## Compile the Model\n",
    "\n",
    "<p>Here \"binary crossentropy\" is used rather than \"sparse categorical crossentropy\" as the output may only be one of two categories and hence binary crossentropy works better.</p>\n",
    "\n",
    "<p>The optimizer selected here is the RMSprop optimizer as it works better for image classification than sgd.</p>\n",
    "\n",
    "<p>Metrics for optimisation is accuracy as we need a model with high accuracy.</p>"
   ]
  },
  {
   "cell_type": "code",
   "execution_count": 25,
   "metadata": {
    "id": "dbS-W8JnEmQI"
   },
   "outputs": [],
   "source": [
    "model.compile(loss = 'binary_crossentropy', optimizer = keras.optimizers.RMSprop(lr = 1e-4), metrics = ['accuracy'])"
   ]
  },
  {
   "cell_type": "markdown",
   "metadata": {
    "id": "zPcROUluHF26"
   },
   "source": [
    "## Train the Model\n",
    "\n",
    "Callbacks and Early Stopping is used to get the best possible version of this model.\n",
    "\n",
    "<em>\n",
    "<dl>\n",
    "  <dt>Callbacks</dt>\n",
    "  <dd>\n",
    "    Model is saved after each epoch; in this case instead of multiple versions of the model being saved, only the best model i.e. model with highest accuracy is saved.\n",
    "  </dd>\n",
    "\n",
    "  <dt>Early Stopping</dt>\n",
    "  <dd>\n",
    "    Stopping when no improvement is seen for a number of epochs called patience, here patience is taken to be 10. By default, improvement is noted in val_loss.\n",
    "  </dd>\n",
    "</dl>\n",
    "</em>"
   ]
  },
  {
   "cell_type": "code",
   "execution_count": 28,
   "metadata": {
    "id": "Hjsd2zQsEmTG"
   },
   "outputs": [],
   "source": [
    "checkpoint_cb = keras.callbacks.ModelCheckpoint('Cat_Dog_Classifier.h5', save_best_only = True)\n",
    "early_stopping_cb = keras.callbacks.EarlyStopping(patience = 10, restore_best_weights = True)"
   ]
  },
  {
   "cell_type": "markdown",
   "metadata": {
    "id": "lVOVEiGhIpF6"
   },
   "source": [
    "Here number of steps required per epoch is chosen as:<br>\n",
    "<code>\n",
    "steps_per_epoch = data_in_training_set/batch_size_of_training_generator\n",
    "</code>\n",
    "\n",
    "And number of validation steps as:<br>\n",
    "<code>\n",
    "validation_steps = data_in_validation_steps/batch_size_of_validation_generator\n",
    "</code>"
   ]
  },
  {
   "cell_type": "code",
   "execution_count": 38,
   "metadata": {
    "colab": {
     "base_uri": "https://localhost:8080/"
    },
    "id": "BXLHid9FEmVT",
    "outputId": "7b3da19d-9fcb-4304-899b-c9f790236d71"
   },
   "outputs": [
    {
     "name": "stdout",
     "output_type": "stream",
     "text": [
      "Epoch 1/200000000\n",
      "100/100 [==============================] - 132s 1s/step - loss: 0.6476 - accuracy: 0.6165 - val_loss: 0.6399 - val_accuracy: 0.6400\n",
      "Epoch 2/200000000\n",
      "100/100 [==============================] - 106s 1s/step - loss: 0.5967 - accuracy: 0.6770 - val_loss: 0.6067 - val_accuracy: 0.6650\n",
      "Epoch 3/200000000\n",
      "100/100 [==============================] - 106s 1s/step - loss: 0.5636 - accuracy: 0.6955 - val_loss: 0.5905 - val_accuracy: 0.6700\n",
      "Epoch 4/200000000\n",
      "100/100 [==============================] - 106s 1s/step - loss: 0.5364 - accuracy: 0.7225 - val_loss: 0.5956 - val_accuracy: 0.6640\n",
      "Epoch 5/200000000\n",
      "100/100 [==============================] - 105s 1s/step - loss: 0.5082 - accuracy: 0.7460 - val_loss: 0.5612 - val_accuracy: 0.7010\n",
      "Epoch 6/200000000\n",
      "100/100 [==============================] - 106s 1s/step - loss: 0.4861 - accuracy: 0.7640 - val_loss: 0.5719 - val_accuracy: 0.6850\n",
      "Epoch 7/200000000\n",
      "100/100 [==============================] - 106s 1s/step - loss: 0.4580 - accuracy: 0.7865 - val_loss: 0.5497 - val_accuracy: 0.7130\n",
      "Epoch 8/200000000\n",
      "100/100 [==============================] - 106s 1s/step - loss: 0.4289 - accuracy: 0.7990 - val_loss: 0.6415 - val_accuracy: 0.7000\n",
      "Epoch 9/200000000\n",
      "100/100 [==============================] - 106s 1s/step - loss: 0.3959 - accuracy: 0.8185 - val_loss: 0.5249 - val_accuracy: 0.7260\n",
      "Epoch 10/200000000\n",
      "100/100 [==============================] - 105s 1s/step - loss: 0.3767 - accuracy: 0.8330 - val_loss: 0.5395 - val_accuracy: 0.7420\n",
      "Epoch 11/200000000\n",
      "100/100 [==============================] - 106s 1s/step - loss: 0.3560 - accuracy: 0.8420 - val_loss: 0.5343 - val_accuracy: 0.7210\n",
      "Epoch 12/200000000\n",
      "100/100 [==============================] - 106s 1s/step - loss: 0.3300 - accuracy: 0.8610 - val_loss: 0.6034 - val_accuracy: 0.7150\n",
      "Epoch 13/200000000\n",
      "100/100 [==============================] - 106s 1s/step - loss: 0.3075 - accuracy: 0.8690 - val_loss: 0.5596 - val_accuracy: 0.7320\n",
      "Epoch 14/200000000\n",
      "100/100 [==============================] - 106s 1s/step - loss: 0.2840 - accuracy: 0.8885 - val_loss: 0.5484 - val_accuracy: 0.7500\n",
      "Epoch 15/200000000\n",
      "100/100 [==============================] - 106s 1s/step - loss: 0.2634 - accuracy: 0.8910 - val_loss: 0.6063 - val_accuracy: 0.7330\n",
      "Epoch 16/200000000\n",
      "100/100 [==============================] - 106s 1s/step - loss: 0.2483 - accuracy: 0.9005 - val_loss: 0.6128 - val_accuracy: 0.7350\n",
      "Epoch 17/200000000\n",
      "100/100 [==============================] - 105s 1s/step - loss: 0.2144 - accuracy: 0.9170 - val_loss: 0.6235 - val_accuracy: 0.7350\n",
      "Epoch 18/200000000\n",
      "100/100 [==============================] - 105s 1s/step - loss: 0.2061 - accuracy: 0.9175 - val_loss: 0.6923 - val_accuracy: 0.7230\n",
      "Epoch 19/200000000\n",
      "100/100 [==============================] - 105s 1s/step - loss: 0.1880 - accuracy: 0.9350 - val_loss: 0.6789 - val_accuracy: 0.7240\n"
     ]
    }
   ],
   "source": [
    "history = model.fit(\n",
    "    train_generator,\n",
    "    steps_per_epoch = 100,\n",
    "    epochs = 200000000,    # an impossibly large epoch value is passed such as to facilitate early stopping\n",
    "    validation_data = valid_generator,\n",
    "    validation_steps = 50,\n",
    "    callbacks = [checkpoint_cb, early_stopping_cb]\n",
    ")"
   ]
  },
  {
   "cell_type": "markdown",
   "metadata": {
    "id": "ayHSlWVrLrSh"
   },
   "source": [
    "## Visualise Training History"
   ]
  },
  {
   "cell_type": "code",
   "execution_count": 43,
   "metadata": {
    "colab": {
     "base_uri": "https://localhost:8080/",
     "height": 324
    },
    "id": "m2xoeTVEKHzK",
    "outputId": "3ef7e3e4-3718-48be-8982-e78be217ae9a"
   },
   "outputs": [
    {
     "data": {
      "image/png": "[encoded data removed]",
      "text/plain": [
       "<Figure size 576x360 with 1 Axes>"
      ]
     },
     "metadata": {
      "needs_background": "light",
      "tags": []
     },
     "output_type": "display_data"
    }
   ],
   "source": [
    "pd.DataFrame(history.history).plot(figsize = (8, 5))\n",
    "plt.grid()\n",
    "plt.gca().set_ylim(0, 1)\n",
    "plt.show()"
   ]
  },
  {
   "cell_type": "markdown",
   "metadata": {
    "id": "iOYHuifwLylH"
   },
   "source": [
    "We observe that:\n",
    "<ol>\n",
    "<li>\n",
    "    Val_loss reached an all time low around the ninth epoch and as expected training was early stopped at the nineteenth epoch so everything proceeded as expected.\n",
    "</li>\n",
    "\n",
    "<li>\n",
    "    Model is gaining training accuracy after every epoch wheras the validation accuracy became nearly constant after about the eighth epoch so there is overfitting caused by reusing the available data multiple times. This could be solved by data augmentation.\n",
    "</li>\n",
    "</ol>\n",
    "\n",
    "This is the end of the simple CNN model; to implement these changes a seperate file will be made."
   ]
  },
  {
   "cell_type": "markdown",
   "metadata": {
    "id": "Z5ImRlePNmYQ"
   },
   "source": [
    "## Clear Keras Backend and Proceed Further"
   ]
  },
  {
   "cell_type": "code",
   "execution_count": 44,
   "metadata": {
    "id": "DlyEf46PEmX4"
   },
   "outputs": [],
   "source": [
    "keras.backend.clear_session()\n",
    "del model"
   ]
  }
 ],
 "metadata": {
  "colab": {
   "collapsed_sections": [],
   "name": "Dog and Cat Classifier: Simple CNN.ipynb",
   "provenance": []
  },
  "kernelspec": {
   "display_name": "Python 3",
   "language": "python",
   "name": "python3"
  },
  "language_info": {
   "codemirror_mode": {
    "name": "ipython",
    "version": 3
   },
   "file_extension": ".py",
   "mimetype": "text/x-python",
   "name": "python",
   "nbconvert_exporter": "python",
   "pygments_lexer": "ipython3",
   "version": "3.8.3"
  }
 },
 "nbformat": 4,
 "nbformat_minor": 1
}
